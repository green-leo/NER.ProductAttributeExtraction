{
 "cells": [
  {
   "cell_type": "code",
   "execution_count": 18,
   "source": [
    "import os\r\n",
    "import numpy as np\r\n",
    "\r\n",
    "from pyvi import ViTokenizer, ViPosTagger\r\n",
    "\r\n",
    "import sklearn_crfsuite\r\n",
    "from sklearn_crfsuite import metrics\r\n",
    "\r\n",
    "from sklearn.model_selection import train_test_split\r\n",
    "from sklearn.model_selection import RandomizedSearchCV\r\n",
    "from sklearn.metrics import make_scorer\r\n",
    "\r\n",
    "import scipy.stats\r\n",
    "\r\n",
    "from feature.doccano2fully import *\r\n",
    "from feature.crf_small_features import *"
   ],
   "outputs": [],
   "metadata": {}
  },
  {
   "cell_type": "code",
   "execution_count": 19,
   "source": [
    "#the dataset input folder path\r\n",
    "dataset_folder_path = 'data/input/'\r\n",
    "# target labels\r\n",
    "target_labels = ['type', 'brand', 'name']\r\n",
    "# test size\r\n",
    "test_size = 0.3"
   ],
   "outputs": [],
   "metadata": {}
  },
  {
   "cell_type": "markdown",
   "source": [
    "#### Data Preparing\r\n",
    "***"
   ],
   "metadata": {}
  },
  {
   "cell_type": "code",
   "execution_count": 20,
   "source": [
    "def clean_target_label(labels):\r\n",
    "    targets = []\r\n",
    "    converter = lambda label : label if label in target_labels else 'None'\r\n",
    "    targets = [converter(label) for label in labels]\r\n",
    "    return targets"
   ],
   "outputs": [],
   "metadata": {}
  },
  {
   "cell_type": "code",
   "execution_count": 21,
   "source": [
    "#return seq_in, seq_out, words_labels\r\n",
    "def data_extracting(data_lines):\r\n",
    "    seq_in = []\r\n",
    "    seq_out = []\r\n",
    "    words_labels = []\r\n",
    "\r\n",
    "    for line in data_lines:\r\n",
    "        line = doccano2fully(line)\r\n",
    "        text, labels, words, tagged = extract_fully_data(line)\r\n",
    "        labels = clean_target_label(labels)\r\n",
    "        if tagged:\r\n",
    "            seq_in.append(text)\r\n",
    "            seq_out.append(labels)\r\n",
    "            words_labels.append([(word, label) for word, label in zip(words, labels)])\r\n",
    "\r\n",
    "    return seq_in, seq_out, words_labels"
   ],
   "outputs": [],
   "metadata": {}
  },
  {
   "cell_type": "code",
   "execution_count": 22,
   "source": [
    "#return word_posteg_label\r\n",
    "def word_postagging(seq_in, words_labels):\r\n",
    "    words_postags_labels = []\r\n",
    "    for seq_itr in range(len(seq_in)):\r\n",
    "        tokens_postags = ViPosTagger.postagging(ViTokenizer.tokenize(seq_in[seq_itr]))\r\n",
    "        words_postags = []\r\n",
    "        for tp_itr in range(len(tokens_postags[0])):\r\n",
    "            if \"_\" in tokens_postags[0][tp_itr]:\r\n",
    "                for word in tokens_postags[0][tp_itr].split('_'):\r\n",
    "                    words_postags.append((word,tokens_postags[1][tp_itr]))\r\n",
    "            else:\r\n",
    "                words_postags.append((tokens_postags[0][tp_itr],tokens_postags[1][tp_itr]))\r\n",
    "        words_postags_labels.append([(w, pos, label) for (w, label), (word, pos) in zip(words_labels[seq_itr], words_postags)])\r\n",
    "        #break\r\n",
    "    return words_postags_labels"
   ],
   "outputs": [],
   "metadata": {}
  },
  {
   "cell_type": "code",
   "execution_count": 23,
   "source": [
    "# A function for extracting features in documents\r\n",
    "def sent2features(sent):\r\n",
    "    return [word2features(sent, i) for i in range(len(sent))]\r\n",
    "\r\n",
    "# A function fo generating the list of labels for each document\r\n",
    "def sent2labels(sent):\r\n",
    "    return [label for (token, postag, label) in sent]"
   ],
   "outputs": [],
   "metadata": {}
  },
  {
   "cell_type": "code",
   "execution_count": 24,
   "source": [
    "def file2dataset(input_file_name):\r\n",
    "    input_file_path = dataset_folder_path + input_file_name\r\n",
    "    input_file = open(input_file_path, \"r\", encoding = \"utf8\")\r\n",
    "    \r\n",
    "    data_lines = input_file.readlines()\r\n",
    "    input_file.close()\r\n",
    "    \r\n",
    "    seq_in, seq_out, words_labels = data_extracting(data_lines)\r\n",
    "    words_postags_labels = word_postagging(seq_in, words_labels)\r\n",
    "\r\n",
    "    # to features\r\n",
    "    X = [sent2features(sent) for sent in words_postags_labels]\r\n",
    "    y = [sent2labels(sent) for sent in words_postags_labels]\r\n",
    "\r\n",
    "    # split to training set and testing set\r\n",
    "    indices = np.arange(len(words_postags_labels))\r\n",
    "    X_train_small, X_test_small, y_train_small, y_test_small, idx1, idx2 = train_test_split(X, y, indices, test_size=test_size, random_state=42)\r\n",
    "    \r\n",
    "    return X_train_small, X_test_small, y_train_small, y_test_small"
   ],
   "outputs": [],
   "metadata": {}
  },
  {
   "cell_type": "code",
   "execution_count": 25,
   "source": [
    "#list of input files\r\n",
    "input_files = os.scandir(dataset_folder_path)\r\n",
    "input_file_names = [input_file.name for input_file in input_files]\r\n",
    "\r\n",
    "#dataset preparing\r\n",
    "X_train = []\r\n",
    "X_test = []\r\n",
    "y_train = []\r\n",
    "y_test = []\r\n",
    "\r\n",
    "for input_file_name in input_file_names:\r\n",
    "    X_train_small, X_test_small, y_train_small, y_test_small = file2dataset(input_file_name)\r\n",
    "    X_train += X_train_small\r\n",
    "    X_test += X_test_small\r\n",
    "    y_train += y_train_small\r\n",
    "    y_test += y_test_small\r\n",
    "\r\n",
    "print(\"Train set: \", len(X_train))\r\n",
    "print(\"Test set: \", len(X_test))\r\n"
   ],
   "outputs": [
    {
     "output_type": "stream",
     "name": "stdout",
     "text": [
      "Train set:  5895\n",
      "Test set:  2532\n"
     ]
    }
   ],
   "metadata": {}
  },
  {
   "cell_type": "markdown",
   "source": [
    "#### Training and Testing\r\n",
    "***"
   ],
   "metadata": {}
  },
  {
   "cell_type": "code",
   "execution_count": 26,
   "source": [
    "%%time\r\n",
    "# Training \r\n",
    "\r\n",
    "#___ using sklearn\r\n",
    "crf = sklearn_crfsuite.CRF(\r\n",
    "    algorithm = 'lbfgs',\r\n",
    "    c1= 0.1,\r\n",
    "    c2= 0.01,\r\n",
    "    max_iterations= 8000,\r\n",
    "    epsilon= 0.00000010,\r\n",
    "    delta= 0.00000010,\r\n",
    "    min_freq= 3,\r\n",
    "    all_possible_transitions= True,\r\n",
    ")\r\n",
    "\r\n",
    "crf.fit(X_train, y_train)\r\n"
   ],
   "outputs": [
    {
     "output_type": "stream",
     "name": "stdout",
     "text": [
      "Wall time: 2min 44s\n"
     ]
    },
    {
     "output_type": "stream",
     "name": "stderr",
     "text": [
      "C:\\Users\\Green\\miniconda3\\lib\\site-packages\\sklearn\\base.py:209: FutureWarning: From version 0.24, get_params will raise an AttributeError if a parameter cannot be retrieved as an instance attribute. Previously it would return None.\n",
      "  warnings.warn('From version 0.24, get_params will raise an '\n"
     ]
    },
    {
     "output_type": "execute_result",
     "data": {
      "text/plain": [
       "CRF(algorithm='lbfgs', all_possible_transitions=True, c1=0.1, c2=0.01,\n",
       "    delta=1e-07, epsilon=1e-07, keep_tempfiles=None, max_iterations=8000,\n",
       "    min_freq=3)"
      ]
     },
     "metadata": {},
     "execution_count": 26
    }
   ],
   "metadata": {}
  },
  {
   "cell_type": "code",
   "execution_count": 27,
   "source": [
    "%%time\r\n",
    "# Predict\r\n",
    "labels = list(crf.classes_)\r\n",
    "labels.remove('None')\r\n",
    "\r\n",
    "y_train_pred = crf.predict(X_train)\r\n",
    "y_pred = crf.predict(X_test)\r\n",
    "\r\n",
    "print(metrics.flat_f1_score(y_test, y_pred,\r\n",
    "                      average='weighted', labels=labels))"
   ],
   "outputs": [
    {
     "output_type": "stream",
     "name": "stdout",
     "text": [
      "0.7856585498648336\n",
      "Wall time: 1 s\n"
     ]
    }
   ],
   "metadata": {}
  },
  {
   "cell_type": "code",
   "execution_count": 28,
   "source": [
    "# Training Metrics \r\n",
    "sorted_labels = sorted(\r\n",
    "    labels,\r\n",
    "key=lambda name: (name[1:], name[0]) )\r\n",
    "print(metrics.flat_classification_report(\r\n",
    "    y_train, y_train_pred, labels=sorted_labels, digits=3\r\n",
    "))\r\n"
   ],
   "outputs": [
    {
     "output_type": "stream",
     "name": "stderr",
     "text": [
      "C:\\Users\\Green\\miniconda3\\lib\\site-packages\\sklearn\\utils\\validation.py:67: FutureWarning: Pass labels=['name', 'brand', 'type'] as keyword args. From version 0.25 passing these as positional arguments will result in an error\n",
      "  warnings.warn(\"Pass {} as keyword args. From version 0.25 \"\n"
     ]
    },
    {
     "output_type": "stream",
     "name": "stdout",
     "text": [
      "              precision    recall  f1-score   support\n",
      "\n",
      "        name      0.896     0.875     0.885      5940\n",
      "       brand      0.886     0.826     0.855      3031\n",
      "        type      0.924     0.907     0.916     16236\n",
      "\n",
      "   micro avg      0.913     0.890     0.901     25207\n",
      "   macro avg      0.902     0.869     0.885     25207\n",
      "weighted avg      0.913     0.890     0.901     25207\n",
      "\n"
     ]
    }
   ],
   "metadata": {}
  },
  {
   "cell_type": "code",
   "execution_count": 29,
   "source": [
    "# Testing Metrics \r\n",
    "sorted_labels = sorted(\r\n",
    "    labels,\r\n",
    "key=lambda name: (name[1:], name[0]) )\r\n",
    "print(metrics.flat_classification_report(\r\n",
    "    y_test, y_pred, labels=sorted_labels, digits=3\r\n",
    "))\r\n"
   ],
   "outputs": [
    {
     "output_type": "stream",
     "name": "stdout",
     "text": [
      "              precision    recall  f1-score   support\n",
      "\n",
      "        name      0.733     0.695     0.714      2519\n",
      "       brand      0.717     0.652     0.683      1276\n",
      "        type      0.834     0.829     0.832      6802\n",
      "\n",
      "   micro avg      0.797     0.776     0.787     10597\n",
      "   macro avg      0.761     0.725     0.743     10597\n",
      "weighted avg      0.796     0.776     0.786     10597\n",
      "\n"
     ]
    }
   ],
   "metadata": {}
  },
  {
   "cell_type": "markdown",
   "source": [
    "# Hyperparameters Optimize"
   ],
   "metadata": {}
  },
  {
   "cell_type": "code",
   "execution_count": 30,
   "source": [
    "%%time\r\n",
    "# define fixed parameters and parameters to search\r\n",
    "\r\n",
    "crf = sklearn_crfsuite.CRF(\r\n",
    "    algorithm='lbfgs',\r\n",
    "    max_iterations=100,\r\n",
    "    all_possible_transitions=True\r\n",
    ")\r\n",
    "\r\n",
    "params_space = {\r\n",
    "    'c1': scipy.stats.expon(scale=0.5),\r\n",
    "    'c2': scipy.stats.expon(scale=0.05),\r\n",
    "}\r\n",
    "\r\n",
    "# use the same metric for evaluation\r\n",
    "f1_scorer = make_scorer(metrics.flat_recall_score,\r\n",
    "                        average='weighted', labels=labels)\r\n",
    "\r\n",
    "# search\r\n",
    "rs = RandomizedSearchCV(crf, params_space,\r\n",
    "                        cv=3,\r\n",
    "                        verbose=1,\r\n",
    "                        n_jobs=-1,\r\n",
    "                        n_iter=50,\r\n",
    "                        scoring=f1_scorer)\r\n",
    "rs.fit(X_train, y_train)"
   ],
   "outputs": [
    {
     "output_type": "stream",
     "name": "stdout",
     "text": [
      "Fitting 3 folds for each of 50 candidates, totalling 150 fits\n"
     ]
    },
    {
     "output_type": "stream",
     "name": "stderr",
     "text": [
      "[Parallel(n_jobs=-1)]: Using backend LokyBackend with 8 concurrent workers.\n",
      "[Parallel(n_jobs=-1)]: Done  34 tasks      | elapsed:   54.9s\n",
      "[Parallel(n_jobs=-1)]: Done 150 out of 150 | elapsed:  3.6min finished\n"
     ]
    },
    {
     "output_type": "stream",
     "name": "stdout",
     "text": [
      "Wall time: 3min 43s\n"
     ]
    },
    {
     "output_type": "execute_result",
     "data": {
      "text/plain": [
       "RandomizedSearchCV(cv=3,\n",
       "                   estimator=CRF(algorithm='lbfgs',\n",
       "                                 all_possible_transitions=True,\n",
       "                                 keep_tempfiles=None, max_iterations=100),\n",
       "                   n_iter=50, n_jobs=-1,\n",
       "                   param_distributions={'c1': <scipy.stats._distn_infrastructure.rv_frozen object at 0x00000249C37A9100>,\n",
       "                                        'c2': <scipy.stats._distn_infrastructure.rv_frozen object at 0x00000249C3AA4490>},\n",
       "                   scoring=make_scorer(flat_recall_score, average=weighted, labels=['type', 'brand', 'name']),\n",
       "                   verbose=1)"
      ]
     },
     "metadata": {},
     "execution_count": 30
    }
   ],
   "metadata": {}
  },
  {
   "cell_type": "code",
   "execution_count": 31,
   "source": [
    "print('best params:', rs.best_params_)\r\n",
    "print('best CV score:', rs.best_score_)\r\n",
    "print('model size: {:0.2f}M'.format(rs.best_estimator_.size_ / 1000000))"
   ],
   "outputs": [
    {
     "output_type": "stream",
     "name": "stdout",
     "text": [
      "best params: {'c1': 0.20911232427317195, 'c2': 0.012046229744645188}\n",
      "best CV score: 0.4765040639952176\n",
      "model size: 1.35M\n"
     ]
    }
   ],
   "metadata": {}
  },
  {
   "cell_type": "code",
   "execution_count": 32,
   "source": [
    "%matplotlib inline\r\n",
    "import matplotlib.pyplot as plt\r\n",
    "plt.style.use('ggplot')\r\n",
    "\r\n",
    "# Randomized Hyperparameter Search CV Results\r\n",
    "\r\n",
    "_x = [s['c1'] for s in rs.cv_results_['params'] ]\r\n",
    "_y = [s['c2'] for s in rs.cv_results_['params'] ]\r\n",
    "_c = [s for s in rs.cv_results_['mean_test_score']]\r\n",
    "\r\n",
    "fig = plt.figure()\r\n",
    "fig.set_size_inches(12, 12)\r\n",
    "ax = plt.gca()\r\n",
    "ax.set_yscale('log')\r\n",
    "ax.set_xscale('log')\r\n",
    "ax.set_xlabel('C1')\r\n",
    "ax.set_ylabel('C2')\r\n",
    "ax.set_title(\"Randomized Hyperparameter Search CV Results (min={:0.3}, max={:0.3})\".format(\r\n",
    "    min(_c), max(_c)\r\n",
    "))\r\n",
    "\r\n",
    "ax.scatter(_x, _y, c=_c, s=60, alpha=0.9, edgecolors=[0,0,0])\r\n",
    "\r\n",
    "print(\"Dark blue => {:0.4}, dark red => {:0.4}\".format(min(_c), max(_c)))"
   ],
   "outputs": [
    {
     "output_type": "stream",
     "name": "stdout",
     "text": [
      "Dark blue => 0.3706, dark red => 0.4765\n"
     ]
    },
    {
     "output_type": "display_data",
     "data": {
      "image/png": "[encoded data removed]",
      "text/plain": [
       "<Figure size 864x864 with 1 Axes>"
      ]
     },
     "metadata": {}
    }
   ],
   "metadata": {}
  },
  {
   "cell_type": "code",
   "execution_count": 33,
   "source": [
    "# Best estimator model\r\n",
    "best_crf = rs.best_estimator_\r\n",
    "\r\n",
    "# best estimator for training set\r\n",
    "y_pred2 = best_crf.predict(X_train)\r\n",
    "print(\"# Training metrics: \\n\")\r\n",
    "print(metrics.flat_classification_report(\r\n",
    "    y_train, y_pred2, labels=labels, digits=3\r\n",
    "))\r\n",
    "\r\n",
    "print(\"\\n ---------------------------------------------------- \\n\")\r\n",
    "\r\n",
    "# best estimator for testing set\r\n",
    "y_pred = best_crf.predict(X_test)\r\n",
    "print(\"# Testing metrics: \\n\")\r\n",
    "print(metrics.flat_classification_report(\r\n",
    "    y_test, y_pred, labels=labels, digits=3\r\n",
    "))"
   ],
   "outputs": [
    {
     "output_type": "stream",
     "name": "stdout",
     "text": [
      "# Training metrics: \n",
      "\n"
     ]
    },
    {
     "output_type": "stream",
     "name": "stderr",
     "text": [
      "C:\\Users\\Green\\miniconda3\\lib\\site-packages\\sklearn\\utils\\validation.py:67: FutureWarning: Pass labels=['type', 'brand', 'name'] as keyword args. From version 0.25 passing these as positional arguments will result in an error\n",
      "  warnings.warn(\"Pass {} as keyword args. From version 0.25 \"\n"
     ]
    },
    {
     "output_type": "stream",
     "name": "stdout",
     "text": [
      "              precision    recall  f1-score   support\n",
      "\n",
      "        type      0.950     0.934     0.942     16236\n",
      "       brand      0.980     0.974     0.977      3031\n",
      "        name      0.989     0.986     0.987      5940\n",
      "\n",
      "   micro avg      0.963     0.951     0.957     25207\n",
      "   macro avg      0.973     0.965     0.969     25207\n",
      "weighted avg      0.963     0.951     0.957     25207\n",
      "\n",
      "\n",
      " ---------------------------------------------------- \n",
      "\n",
      "# Testing metrics: \n",
      "\n",
      "              precision    recall  f1-score   support\n",
      "\n",
      "        type      0.846     0.833     0.840      6802\n",
      "       brand      0.777     0.653     0.710      1276\n",
      "        name      0.762     0.659     0.707      2519\n",
      "\n",
      "   micro avg      0.820     0.770     0.794     10597\n",
      "   macro avg      0.795     0.715     0.752     10597\n",
      "weighted avg      0.818     0.770     0.792     10597\n",
      "\n"
     ]
    }
   ],
   "metadata": {}
  }
 ],
 "metadata": {
  "interpreter": {
   "hash": "10429ee993181f60e6e2fb8d8898bdd335e1dca66225fda34ad9c93ac779e1d1"
  },
  "kernelspec": {
   "name": "python3",
   "display_name": "Python 3.9.1 64-bit ('base': conda)"
  },
  "language_info": {
   "codemirror_mode": {
    "name": "ipython",
    "version": 3
   },
   "file_extension": ".py",
   "mimetype": "text/x-python",
   "name": "python",
   "nbconvert_exporter": "python",
   "pygments_lexer": "ipython3",
   "version": "3.9.1"
  }
 },
 "nbformat": 4,
 "nbformat_minor": 5
}