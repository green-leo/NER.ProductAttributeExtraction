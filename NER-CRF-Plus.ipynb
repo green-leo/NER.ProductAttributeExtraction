{
 "cells": [
  {
   "cell_type": "code",
   "execution_count": 1,
   "source": [
    "import os\r\n",
    "import numpy as np\r\n",
    "import pandas as pd\r\n",
    "\r\n",
    "from pyvi import ViTokenizer, ViPosTagger\r\n",
    "\r\n",
    "import sklearn_crfsuite\r\n",
    "from sklearn_crfsuite import metrics\r\n",
    "\r\n",
    "from sklearn.model_selection import train_test_split\r\n",
    "from sklearn.model_selection import RandomizedSearchCV\r\n",
    "from sklearn.metrics import make_scorer\r\n",
    "\r\n",
    "import scipy.stats\r\n",
    "\r\n",
    "from feature.doccano2fully import *\r\n",
    "from feature.crf_plus_features import *"
   ],
   "outputs": [],
   "metadata": {}
  },
  {
   "cell_type": "code",
   "execution_count": 2,
   "source": [
    "#the dataset input folder path\r\n",
    "dataset_folder_path = 'data/input/'\r\n",
    "# target labels\r\n",
    "target_labels = ['type', 'brand', 'name', 'origin', 'form', 'color']\r\n",
    "# test size\r\n",
    "test_size = 0.3"
   ],
   "outputs": [],
   "metadata": {}
  },
  {
   "cell_type": "markdown",
   "source": [
    "#### Data Preparing\r\n",
    "***"
   ],
   "metadata": {}
  },
  {
   "cell_type": "code",
   "execution_count": 3,
   "source": [
    "def clean_target_label(labels, target_labels):\r\n",
    "    targets = []\r\n",
    "    converter = lambda label : label if label in target_labels else 'None'\r\n",
    "    targets = [converter(label) for label in labels]\r\n",
    "    return targets"
   ],
   "outputs": [],
   "metadata": {}
  },
  {
   "cell_type": "code",
   "execution_count": 4,
   "source": [
    "#return seq_in, seq_out, words_labels\r\n",
    "def data_extracting(data_lines):\r\n",
    "    seq_in = []\r\n",
    "    seq_out = []\r\n",
    "    words_labels = []\r\n",
    "\r\n",
    "    for line in data_lines:\r\n",
    "        line = doccano2fully(line)\r\n",
    "        text, labels, words, tagged = extract_fully_data(line)\r\n",
    "        labels = clean_target_label(labels, target_labels)\r\n",
    "        if tagged:\r\n",
    "            seq_in.append(text)\r\n",
    "            seq_out.append(labels)\r\n",
    "            words_labels.append([(word, label) for word, label in zip(words, labels)])\r\n",
    "\r\n",
    "    return seq_in, seq_out, words_labels"
   ],
   "outputs": [],
   "metadata": {}
  },
  {
   "cell_type": "code",
   "execution_count": 5,
   "source": [
    "#return word_posteg_label\r\n",
    "def word_postagging(seq_in, words_labels):\r\n",
    "    words_postags_labels = []\r\n",
    "    for seq_itr in range(len(seq_in)):\r\n",
    "        tokens_postags = ViPosTagger.postagging(ViTokenizer.tokenize(seq_in[seq_itr]))\r\n",
    "        words_postags = []\r\n",
    "        for tp_itr in range(len(tokens_postags[0])):\r\n",
    "            if \"_\" in tokens_postags[0][tp_itr]:\r\n",
    "                for word in tokens_postags[0][tp_itr].split('_'):\r\n",
    "                    words_postags.append((word,tokens_postags[1][tp_itr]))\r\n",
    "            else:\r\n",
    "                words_postags.append((tokens_postags[0][tp_itr],tokens_postags[1][tp_itr]))\r\n",
    "        words_postags_labels.append([(w, pos, label) for (w, label), (word, pos) in zip(words_labels[seq_itr], words_postags)])\r\n",
    "        #break\r\n",
    "    return words_postags_labels"
   ],
   "outputs": [],
   "metadata": {}
  },
  {
   "cell_type": "code",
   "execution_count": 6,
   "source": [
    "# A function for extracting features in documents\r\n",
    "def sent2features(sent):\r\n",
    "    return [word2features(sent, i) for i in range(len(sent))]\r\n",
    "\r\n",
    "# A function fo generating the list of labels for each document\r\n",
    "def sent2labels(sent):\r\n",
    "    return [label for (token, postag, label) in sent]"
   ],
   "outputs": [],
   "metadata": {}
  },
  {
   "cell_type": "code",
   "execution_count": 7,
   "source": [
    "def file2dataset(input_file_name):\r\n",
    "    input_file_path = dataset_folder_path + input_file_name\r\n",
    "    input_file = open(input_file_path, \"r\", encoding = \"utf8\")\r\n",
    "    \r\n",
    "    data_lines = input_file.readlines()\r\n",
    "    input_file.close()\r\n",
    "    \r\n",
    "    seq_in, seq_out, words_labels = data_extracting(data_lines)\r\n",
    "    words_postags_labels = word_postagging(seq_in, words_labels)\r\n",
    "\r\n",
    "    # to features\r\n",
    "    X = [sent2features(sent) for sent in words_postags_labels]\r\n",
    "    y = [sent2labels(sent) for sent in words_postags_labels]\r\n",
    "\r\n",
    "    # split to training set and testing set\r\n",
    "    indices = np.arange(len(words_postags_labels))\r\n",
    "    X_train_small, X_test_small, y_train_small, y_test_small, idx1, idx2 = train_test_split(X, y, indices, test_size=test_size, random_state=42)\r\n",
    "    \r\n",
    "    return X_train_small, X_test_small, y_train_small, y_test_small"
   ],
   "outputs": [],
   "metadata": {}
  },
  {
   "cell_type": "code",
   "execution_count": null,
   "source": [
    "#list of input files\r\n",
    "input_files = os.scandir(dataset_folder_path)\r\n",
    "input_file_names = [input_file.name for input_file in input_files]\r\n",
    "\r\n",
    "#dataset preparing\r\n",
    "X_train = []\r\n",
    "X_test = []\r\n",
    "y_train = []\r\n",
    "y_test = []\r\n",
    "\r\n",
    "for input_file_name in input_file_names:\r\n",
    "    X_train_small, X_test_small, y_train_small, y_test_small = file2dataset(input_file_name)\r\n",
    "    X_train += X_train_small\r\n",
    "    X_test += X_test_small\r\n",
    "    y_train += y_train_small\r\n",
    "    y_test += y_test_small\r\n",
    "\r\n",
    "print(\"Train set: \", len(X_train))\r\n",
    "print(\"Test set: \", len(X_test))\r\n"
   ],
   "outputs": [
    {
     "output_type": "stream",
     "name": "stdout",
     "text": [
      "Train set:  5481\n",
      "Test set:  2355\n"
     ]
    }
   ],
   "metadata": {}
  },
  {
   "cell_type": "markdown",
   "source": [
    "#### Training and Testing\r\n",
    "***"
   ],
   "metadata": {}
  },
  {
   "cell_type": "code",
   "execution_count": 9,
   "source": [
    "def CRF_training(X_train, y_train):\r\n",
    "    crf = sklearn_crfsuite.CRF(\r\n",
    "        algorithm = 'lbfgs',\r\n",
    "        c1= 0.1,\r\n",
    "        c2= 0.01,\r\n",
    "        max_iterations= 8000,\r\n",
    "        epsilon= 0.00000010,\r\n",
    "        delta= 0.00000010,\r\n",
    "        min_freq= 3,\r\n",
    "        all_possible_transitions= True,\r\n",
    "    )\r\n",
    "\r\n",
    "    crf.fit(X_train, y_train)\r\n",
    "    return crf"
   ],
   "outputs": [],
   "metadata": {}
  },
  {
   "cell_type": "code",
   "execution_count": 10,
   "source": [
    "def classification_report(y_pred, y_test, labels):\r\n",
    "    return (metrics.flat_classification_report(\r\n",
    "        y_test, y_pred, labels=labels, digits=3\r\n",
    "    ))"
   ],
   "outputs": [],
   "metadata": {}
  },
  {
   "cell_type": "code",
   "execution_count": 11,
   "source": [
    "def metrics_report(y_pred, y_test, labels):\r\n",
    "    precision = metrics.flat_precision_score(y_test, y_pred, average='weighted', labels=labels)\r\n",
    "    recall = metrics.flat_recall_score(y_test, y_pred, average='weighted', labels=labels)\r\n",
    "    f1_score = metrics.flat_f1_score(y_test, y_pred, average='weighted', labels=labels)\r\n",
    "    return [precision, recall, f1_score]"
   ],
   "outputs": [],
   "metadata": {}
  },
  {
   "cell_type": "code",
   "execution_count": 12,
   "source": [
    "def CRF_testing(model, X_test, y_test):\r\n",
    "    y_pred = model.predict(X_test)\r\n",
    "    labels = list(model.classes_)\r\n",
    "    labels.remove('None')\r\n",
    "    result_report = metrics_report(y_pred, y_test, labels)\r\n",
    "    return result_report"
   ],
   "outputs": [],
   "metadata": {}
  },
  {
   "cell_type": "code",
   "execution_count": 13,
   "source": [
    "def CRF_per_label(X_train, X_test, y_train, y_test, target_labels):\r\n",
    "    \r\n",
    "    crf_per_label = {}\r\n",
    "    result_report_per_label = {}\r\n",
    "\r\n",
    "    for target_label in target_labels:\r\n",
    "        y_train_1 = [clean_target_label(y_elem, [target_label]) for y_elem in y_train]\r\n",
    "        y_test_1 = [clean_target_label(y_elem, [target_label]) for y_elem in y_test]\r\n",
    "\r\n",
    "        crf_per_label[target_label] = CRF_training(X_train, y_train_1)\r\n",
    "        result_report_per_label[target_label] = CRF_testing(crf_per_label[target_label], X_test, y_test_1)\r\n",
    "\r\n",
    "    return result_report_per_label"
   ],
   "outputs": [],
   "metadata": {}
  },
  {
   "cell_type": "code",
   "execution_count": 14,
   "source": [
    "# Training and Testing CRF for each taregt label with same dataset\r\n",
    "\r\n",
    "result_report_per_label = CRF_per_label(X_train, X_test, y_train, y_test, target_labels)\r\n",
    "pd.DataFrame.from_dict(result_report_per_label, orient='index', columns=['Precision', 'Recall', 'F1-Score'])"
   ],
   "outputs": [
    {
     "output_type": "execute_result",
     "data": {
      "text/html": [
       "<div>\n",
       "<style scoped>\n",
       "    .dataframe tbody tr th:only-of-type {\n",
       "        vertical-align: middle;\n",
       "    }\n",
       "\n",
       "    .dataframe tbody tr th {\n",
       "        vertical-align: top;\n",
       "    }\n",
       "\n",
       "    .dataframe thead th {\n",
       "        text-align: right;\n",
       "    }\n",
       "</style>\n",
       "<table border=\"1\" class=\"dataframe\">\n",
       "  <thead>\n",
       "    <tr style=\"text-align: right;\">\n",
       "      <th></th>\n",
       "      <th>Precision</th>\n",
       "      <th>Recall</th>\n",
       "      <th>F1-Score</th>\n",
       "    </tr>\n",
       "  </thead>\n",
       "  <tbody>\n",
       "    <tr>\n",
       "      <th>type</th>\n",
       "      <td>0.864087</td>\n",
       "      <td>0.853754</td>\n",
       "      <td>0.858890</td>\n",
       "    </tr>\n",
       "    <tr>\n",
       "      <th>brand</th>\n",
       "      <td>0.694238</td>\n",
       "      <td>0.637916</td>\n",
       "      <td>0.664887</td>\n",
       "    </tr>\n",
       "    <tr>\n",
       "      <th>name</th>\n",
       "      <td>0.779970</td>\n",
       "      <td>0.700201</td>\n",
       "      <td>0.737936</td>\n",
       "    </tr>\n",
       "    <tr>\n",
       "      <th>origin</th>\n",
       "      <td>0.938485</td>\n",
       "      <td>0.922566</td>\n",
       "      <td>0.930457</td>\n",
       "    </tr>\n",
       "    <tr>\n",
       "      <th>form</th>\n",
       "      <td>0.786219</td>\n",
       "      <td>0.785525</td>\n",
       "      <td>0.785872</td>\n",
       "    </tr>\n",
       "    <tr>\n",
       "      <th>color</th>\n",
       "      <td>0.814241</td>\n",
       "      <td>0.756835</td>\n",
       "      <td>0.784489</td>\n",
       "    </tr>\n",
       "  </tbody>\n",
       "</table>\n",
       "</div>"
      ],
      "text/plain": [
       "        Precision    Recall  F1-Score\n",
       "type     0.864087  0.853754  0.858890\n",
       "brand    0.694238  0.637916  0.664887\n",
       "name     0.779970  0.700201  0.737936\n",
       "origin   0.938485  0.922566  0.930457\n",
       "form     0.786219  0.785525  0.785872\n",
       "color    0.814241  0.756835  0.784489"
      ]
     },
     "metadata": {},
     "execution_count": 14
    }
   ],
   "metadata": {}
  },
  {
   "cell_type": "code",
   "execution_count": 15,
   "source": [
    "# Training and Testing CRF for all target_labels\r\n",
    "crf_all_label = CRF_training(X_train, y_train)\r\n",
    "y_pred = crf_all_label.predict(X_test)\r\n",
    "print(classification_report(y_pred, y_test, target_labels))\r\n"
   ],
   "outputs": [
    {
     "output_type": "stream",
     "name": "stderr",
     "text": [
      "C:\\Users\\Green\\miniconda3\\lib\\site-packages\\sklearn\\utils\\validation.py:67: FutureWarning: Pass labels=['type', 'brand', 'name', 'origin', 'form', 'color'] as keyword args. From version 0.25 passing these as positional arguments will result in an error\n",
      "  warnings.warn(\"Pass {} as keyword args. From version 0.25 \"\n"
     ]
    },
    {
     "output_type": "stream",
     "name": "stdout",
     "text": [
      "              precision    recall  f1-score   support\n",
      "\n",
      "        type      0.858     0.853     0.855      5101\n",
      "       brand      0.691     0.656     0.673      1171\n",
      "        name      0.771     0.711     0.740      2992\n",
      "      origin      0.922     0.901     0.912      1356\n",
      "        form      0.773     0.771     0.772      2266\n",
      "       color      0.804     0.732     0.767       695\n",
      "\n",
      "   micro avg      0.815     0.790     0.802     13581\n",
      "   macro avg      0.803     0.771     0.786     13581\n",
      "weighted avg      0.814     0.790     0.801     13581\n",
      "\n"
     ]
    }
   ],
   "metadata": {}
  }
 ],
 "metadata": {
  "orig_nbformat": 4,
  "language_info": {
   "name": "python",
   "version": "3.9.1",
   "mimetype": "text/x-python",
   "codemirror_mode": {
    "name": "ipython",
    "version": 3
   },
   "pygments_lexer": "ipython3",
   "nbconvert_exporter": "python",
   "file_extension": ".py"
  },
  "kernelspec": {
   "name": "python3",
   "display_name": "Python 3.9.1 64-bit ('base': conda)"
  },
  "interpreter": {
   "hash": "10429ee993181f60e6e2fb8d8898bdd335e1dca66225fda34ad9c93ac779e1d1"
  }
 },
 "nbformat": 4,
 "nbformat_minor": 2
}