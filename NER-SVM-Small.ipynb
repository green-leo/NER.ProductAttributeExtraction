{
 "cells": [
  {
   "cell_type": "code",
   "execution_count": 1,
   "source": [
    "import os, json\r\n",
    "import numpy as np\r\n",
    "import pandas as pd\r\n",
    "\r\n",
    "import sklearn \r\n",
    "from sklearn.svm import SVC  \r\n",
    "from sklearn.model_selection import train_test_split\r\n",
    "from sklearn.metrics import confusion_matrix, auc, roc_curve, classification_report\r\n",
    "from sklearn_crfsuite import metrics\r\n",
    "\r\n",
    "from feature.doccano2fully import *\r\n",
    "from feature.svm_small_features import *\r\n"
   ],
   "outputs": [],
   "metadata": {}
  },
  {
   "cell_type": "code",
   "execution_count": 2,
   "source": [
    "# the dataset input folder path\r\n",
    "dataset_folder_path = 'data/input/'\r\n",
    "# target labels\r\n",
    "target_labels = ['type', 'brand', 'name']\r\n",
    "# test_size\r\n",
    "test_size = 0.3"
   ],
   "outputs": [],
   "metadata": {}
  },
  {
   "cell_type": "markdown",
   "source": [
    "#### Data Preparing\r\n",
    "***"
   ],
   "metadata": {}
  },
  {
   "cell_type": "code",
   "execution_count": 3,
   "source": [
    "def clean_target_label(labels):\r\n",
    "    targets = []\r\n",
    "    converter = lambda label : label if label in target_labels else 'None'\r\n",
    "    targets = [converter(label) for label in labels]\r\n",
    "    return targets"
   ],
   "outputs": [],
   "metadata": {}
  },
  {
   "cell_type": "code",
   "execution_count": 4,
   "source": [
    "#return seq_in, seq_out, words_labels\r\n",
    "def data_extracting(data_lines, id):\r\n",
    "    pcontents = []\r\n",
    "    for line in data_lines:\r\n",
    "        line = doccano2fully(line)\r\n",
    "        text, labels, words, tagged = extract_fully_data(line)\r\n",
    "        labels = clean_target_label(labels)\r\n",
    "        if tagged:\r\n",
    "            pcontents.append((id, tagged, words, labels))\r\n",
    "            id += 1\r\n",
    "\r\n",
    "    return pcontents"
   ],
   "outputs": [],
   "metadata": {}
  },
  {
   "cell_type": "code",
   "execution_count": 5,
   "source": [
    "def file2dataset(input_file_name):\r\n",
    "    input_file_path = dataset_folder_path + input_file_name\r\n",
    "    input_file = open(input_file_path, \"r\", encoding = \"utf8\")\r\n",
    "    \r\n",
    "    data_lines = input_file.readlines()\r\n",
    "    input_file.close()\r\n",
    "    \r\n",
    "    id = 1\r\n",
    "    pcontents = data_extracting(data_lines, id)\r\n",
    "\r\n",
    "    # split to training set and testing set\r\n",
    "    indices = np.arange(len(pcontents))\r\n",
    "    train_small, test_small, idx1, idx2 = train_test_split(pcontents, indices, test_size=test_size, random_state=42)\r\n",
    "    \r\n",
    "    return train_small, test_small"
   ],
   "outputs": [],
   "metadata": {}
  },
  {
   "cell_type": "code",
   "execution_count": 12,
   "source": [
    "# list of input files\r\n",
    "input_files = os.scandir(dataset_folder_path)\r\n",
    "input_file_names = [input_file.name for input_file in input_files]\r\n",
    "\r\n",
    "# dataset preparing\r\n",
    "train_set = []\r\n",
    "test_set = []\r\n",
    "\r\n",
    "for input_file_name in input_file_names:\r\n",
    "    train_small, test_small = file2dataset(input_file_name)\r\n",
    "    train_set += train_small\r\n",
    "    test_set += test_small\r\n",
    "\r\n",
    "print(\"Train set: \", len(train_set))\r\n",
    "print(\"Test set: \", len(test_set))"
   ],
   "outputs": [
    {
     "output_type": "stream",
     "name": "stdout",
     "text": [
      "Train set:  524\n",
      "Test set:  225\n"
     ]
    }
   ],
   "metadata": {}
  },
  {
   "cell_type": "code",
   "execution_count": 13,
   "source": [
    "%%time\r\n",
    "# do split traint/test set\r\n",
    "# count of rows which\r\n",
    "fex = FE_W0()\r\n",
    "fec= FeatureExtractionContainer()\r\n",
    "\r\n",
    "# Arrange trainig and test set\r\n",
    "fec= FeatureExtractionContainer()\r\n",
    "train_set_feature= fec.process_sentenses(train_set)\r\n",
    "test_set_feature= fec.process_sentenses(test_set, False)\r\n",
    "\r\n",
    "df_train = fec.features_pandalizer(train_set_feature)\r\n",
    "df_test = fec.features_pandalizer(test_set_feature)\r\n"
   ],
   "outputs": [
    {
     "output_type": "stream",
     "name": "stdout",
     "text": [
      "Wall time: 14.1 s\n"
     ]
    }
   ],
   "metadata": {}
  },
  {
   "cell_type": "markdown",
   "source": [
    "#### Training and Testing\r\n",
    "***"
   ],
   "metadata": {}
  },
  {
   "cell_type": "code",
   "execution_count": 15,
   "source": [
    "def multiSVM_training(all_labels, df_train):\r\n",
    "    # mutil_model per labels\r\n",
    "    cls_per_ner = {}\r\n",
    "    \r\n",
    "    # training result\r\n",
    "    df_train_result = df_train.loc[:, ['TupleID', 'word','Tag']].copy()\r\n",
    "    df_train_result = df_train_result.reindex(columns=df_train_result.columns.tolist() + all_labels)\r\n",
    "    \r\n",
    "    for label in all_labels:\r\n",
    "        df_train_copy = df_train.loc[:].copy()\r\n",
    "        df_train_copy['Y'] = df_train_copy.apply(lambda row: (1 if row['Tag'] == label else 0), axis=1)\r\n",
    "        df_train_copy.drop(['word', 'WordID', 'Tagged', 'TupleID', 'Tag'], axis=1, inplace=True)\r\n",
    "        \r\n",
    "        # dataset\r\n",
    "        X_train = df_train_copy.drop('Y', axis=1)\r\n",
    "        Y_train = df_train_copy['Y']\r\n",
    "        \r\n",
    "        # model\r\n",
    "        svc = SVC(kernel='rbf', gamma=0.7, probability=True)\r\n",
    "\r\n",
    "        # training\r\n",
    "        clf = svc.fit(X_train, Y_train)\r\n",
    "        cls_per_ner[label] = clf\r\n",
    "\r\n",
    "        # predict\r\n",
    "        y_pred = clf.predict(X_train)\r\n",
    "        y_pred_porbability = clf.predict_proba(X_train)\r\n",
    "        df_train_result[label] = y_pred_porbability[:,1]\r\n",
    "        \r\n",
    "\r\n",
    "    return df_train_result, cls_per_ner"
   ],
   "outputs": [],
   "metadata": {}
  },
  {
   "cell_type": "code",
   "execution_count": 16,
   "source": [
    "def multiSVM_testing(all_labels, df_test, cls_per_ner):\r\n",
    "    #testing result\r\n",
    "    df_test_result = df_test.loc[:, ['TupleID', 'word','Tag']].copy()\r\n",
    "    df_test_result = df_test_result.reindex(columns=df_test_result.columns.tolist() + all_labels)\r\n",
    "\r\n",
    "    for label in all_labels:\r\n",
    "        df_test_copy = df_test.copy()\r\n",
    "        df_test_copy['Y'] = df_test_copy.apply(lambda row: (1 if row['Tag'] == label else 0), axis=1)\r\n",
    "        df_test_copy.drop(['word', 'WordID', 'Tagged', 'TupleID', 'Tag'], axis=1, inplace=True)\r\n",
    "\r\n",
    "        # dataset\r\n",
    "        X_test = df_test_copy.drop('Y', axis=1)\r\n",
    "        Y_test = df_test_copy['Y']\r\n",
    "        \r\n",
    "        # predict\r\n",
    "        clf = cls_per_ner[label]\r\n",
    "        y_pred = clf.predict(X_test)\r\n",
    "        y_pred_porbability = clf.predict_proba(X_test)\r\n",
    "        df_test_result[label] = y_pred_porbability[:,1]\r\n",
    "\r\n",
    "    return df_test_result"
   ],
   "outputs": [],
   "metadata": {}
  },
  {
   "cell_type": "code",
   "execution_count": 17,
   "source": [
    "%%time\r\n",
    "#training\r\n",
    "all_labels = target_labels + ['None']\r\n",
    "df_train_result, cls_per_ner = multiSVM_training(all_labels, df_train)"
   ],
   "outputs": [
    {
     "output_type": "stream",
     "name": "stdout",
     "text": [
      "Wall time: 45min 19s\n"
     ]
    }
   ],
   "metadata": {}
  },
  {
   "cell_type": "code",
   "execution_count": 18,
   "source": [
    "%%time\r\n",
    "# testing\r\n",
    "df_test_result = multiSVM_testing(all_labels, df_test, cls_per_ner)"
   ],
   "outputs": [
    {
     "output_type": "stream",
     "name": "stdout",
     "text": [
      "Wall time: 4min 52s\n"
     ]
    }
   ],
   "metadata": {}
  },
  {
   "cell_type": "code",
   "execution_count": 19,
   "source": [
    "# Label Predict From Threshold and Label Probabilitys\r\n",
    "def calc_tag(row):\r\n",
    "    maxi = np.argmax([row[name] for name in all_labels])\r\n",
    "    maxval = row[all_labels[maxi]]\r\n",
    "    if prob_threshold < maxval:\r\n",
    "        return all_labels[maxi]\r\n",
    "    return ''\r\n",
    "\r\n",
    "# Print Metrics Report\r\n",
    "def print_metrics(df_result, target_labels):\r\n",
    "    df_result['TagPred'] = df_result.apply(calc_tag, axis=1)\r\n",
    "    df_result.head(20)\r\n",
    "\r\n",
    "    # collect results in list of lists\r\n",
    "    list_tag = []\r\n",
    "    list_tag_pred = []\r\n",
    "    list_list_tag_pred = []\r\n",
    "    list_list_tag = []\r\n",
    "    prev_tuple = -1\r\n",
    "    for index, row in df_result.iterrows():\r\n",
    "        tupleId = row['TupleID']\r\n",
    "        tag = row['Tag']\r\n",
    "        tag_pred = row['TagPred']\r\n",
    "        if len(list_tag) > 0 and prev_tuple != tupleId:\r\n",
    "            list_list_tag.append(list_tag)\r\n",
    "            list_list_tag_pred.append(list_tag_pred)\r\n",
    "            list_tag = []\r\n",
    "            list_tag_pred = []\r\n",
    "        list_tag.append(tag)\r\n",
    "        list_tag_pred.append(tag_pred)\r\n",
    "        prev_tuple = tupleId\r\n",
    "    list_list_tag.append(list_tag)\r\n",
    "    list_list_tag_pred.append(list_tag_pred)\r\n",
    "        \r\n",
    "    #print(list_list_tag)\r\n",
    "    print(metrics.flat_classification_report(\r\n",
    "        list_list_tag, list_list_tag_pred, labels=target_labels, digits=3\r\n",
    "    ))"
   ],
   "outputs": [],
   "metadata": {}
  },
  {
   "cell_type": "code",
   "execution_count": 20,
   "source": [
    "prob_threshold = 0.4\r\n",
    "\r\n",
    "# Train metrics\r\n",
    "print(\"# Training metrics\")\r\n",
    "print_metrics(df_train_result, target_labels)\r\n",
    "\r\n",
    "# Test metrics\r\n",
    "print(\"# Testing metrics\")\r\n",
    "print_metrics(df_test_result, target_labels)"
   ],
   "outputs": [
    {
     "output_type": "stream",
     "name": "stdout",
     "text": [
      "# Training metrics\n"
     ]
    },
    {
     "output_type": "stream",
     "name": "stderr",
     "text": [
      "C:\\Users\\Green\\miniconda3\\lib\\site-packages\\sklearn\\utils\\validation.py:67: FutureWarning: Pass labels=['type', 'brand', 'name'] as keyword args. From version 0.25 passing these as positional arguments will result in an error\n",
      "  warnings.warn(\"Pass {} as keyword args. From version 0.25 \"\n"
     ]
    },
    {
     "output_type": "stream",
     "name": "stdout",
     "text": [
      "              precision    recall  f1-score   support\n",
      "\n",
      "        type      0.941     0.841     0.888      1513\n",
      "       brand      0.976     0.946     0.961       299\n",
      "        name      0.992     0.947     0.969       513\n",
      "\n",
      "   micro avg      0.957     0.878     0.916      2325\n",
      "   macro avg      0.970     0.912     0.939      2325\n",
      "weighted avg      0.957     0.878     0.915      2325\n",
      "\n",
      "# Testing metrics\n",
      "              precision    recall  f1-score   support\n",
      "\n",
      "        type      0.829     0.771     0.799       597\n",
      "       brand      0.911     0.293     0.443       140\n",
      "        name      0.807     0.288     0.424       233\n",
      "\n",
      "   micro avg      0.832     0.586     0.687       970\n",
      "   macro avg      0.849     0.450     0.555       970\n",
      "weighted avg      0.836     0.586     0.657       970\n",
      "\n"
     ]
    }
   ],
   "metadata": {}
  },
  {
   "cell_type": "code",
   "execution_count": 21,
   "source": [
    "# Confusion matric\r\n",
    "print('# Confusion matix')\r\n",
    "sklearn.metrics.confusion_matrix(df_test_result['Tag'], df_test_result['TagPred'], labels=all_labels)"
   ],
   "outputs": [
    {
     "output_type": "stream",
     "name": "stdout",
     "text": [
      "# Confusion matix\n"
     ]
    },
    {
     "output_type": "execute_result",
     "data": {
      "text/plain": [
       "array([[ 460,    0,    1,  108],\n",
       "       [  10,   41,    3,   60],\n",
       "       [   3,    3,   67,  136],\n",
       "       [  82,    1,   12, 2064]], dtype=int64)"
      ]
     },
     "metadata": {},
     "execution_count": 21
    }
   ],
   "metadata": {}
  },
  {
   "cell_type": "code",
   "execution_count": 22,
   "source": [
    "%matplotlib inline\r\n",
    "import matplotlib.pyplot as plt\r\n",
    "plt.style.use('ggplot')\r\n",
    "\r\n",
    "# Receiver Operating Characteristic - ROC\r\n",
    "\r\n",
    "fpr = {}\r\n",
    "tpr = {}\r\n",
    "roc_auc = {}\r\n",
    "colors = {'type' : 'green', 'brand' : 'darkorange', 'name' : 'grey'}\r\n",
    "for label in target_labels:\r\n",
    "    fpr[label], tpr[label], _ = sklearn.metrics.roc_curve(y_true=list((df_test_result['Tag'] == label).astype(int)), \r\n",
    "                                  y_score=df_test_result[label].astype(float), pos_label=1)\r\n",
    "    roc_auc[label] = auc(fpr[label], tpr[label])\r\n",
    "\r\n",
    "plt.figure()\r\n",
    "lw = 2\r\n",
    "for label in target_labels:\r\n",
    "    plt.plot(fpr[label], tpr[label], color=colors[label],\r\n",
    "             lw=lw, label='%s (area = %0.2f)' % (label,roc_auc[label]))\r\n",
    "plt.plot([0, 1], [0, 1], color='navy', lw=lw, linestyle='--')\r\n",
    "plt.xlim([0.0, 1.0])\r\n",
    "plt.ylim([0.0, 1.05])\r\n",
    "plt.xlabel('False Positive Rate')\r\n",
    "plt.ylabel('True Positive Rate')\r\n",
    "plt.title('Receiver Operating Characteristic (SVM)')\r\n",
    "plt.legend(loc=\"lower right\")\r\n",
    "plt.grid()\r\n",
    "plt.show()"
   ],
   "outputs": [
    {
     "output_type": "display_data",
     "data": {
      "image/png": "[encoded data removed]",
      "text/plain": [
       "<Figure size 432x288 with 1 Axes>"
      ]
     },
     "metadata": {}
    }
   ],
   "metadata": {}
  },
  {
   "cell_type": "code",
   "execution_count": 23,
   "source": [
    "df_test_result"
   ],
   "outputs": [
    {
     "output_type": "execute_result",
     "data": {
      "text/html": [
       "<div>\n",
       "<style scoped>\n",
       "    .dataframe tbody tr th:only-of-type {\n",
       "        vertical-align: middle;\n",
       "    }\n",
       "\n",
       "    .dataframe tbody tr th {\n",
       "        vertical-align: top;\n",
       "    }\n",
       "\n",
       "    .dataframe thead th {\n",
       "        text-align: right;\n",
       "    }\n",
       "</style>\n",
       "<table border=\"1\" class=\"dataframe\">\n",
       "  <thead>\n",
       "    <tr style=\"text-align: right;\">\n",
       "      <th></th>\n",
       "      <th>TupleID</th>\n",
       "      <th>word</th>\n",
       "      <th>Tag</th>\n",
       "      <th>type</th>\n",
       "      <th>brand</th>\n",
       "      <th>name</th>\n",
       "      <th>None</th>\n",
       "      <th>TagPred</th>\n",
       "    </tr>\n",
       "  </thead>\n",
       "  <tbody>\n",
       "    <tr>\n",
       "      <th>0</th>\n",
       "      <td>143</td>\n",
       "      <td>bàn</td>\n",
       "      <td>type</td>\n",
       "      <td>0.935700</td>\n",
       "      <td>0.023179</td>\n",
       "      <td>0.031588</td>\n",
       "      <td>0.067010</td>\n",
       "      <td>type</td>\n",
       "    </tr>\n",
       "    <tr>\n",
       "      <th>1</th>\n",
       "      <td>143</td>\n",
       "      <td>ủi</td>\n",
       "      <td>type</td>\n",
       "      <td>0.935592</td>\n",
       "      <td>0.022659</td>\n",
       "      <td>0.031660</td>\n",
       "      <td>0.067060</td>\n",
       "      <td>type</td>\n",
       "    </tr>\n",
       "    <tr>\n",
       "      <th>2</th>\n",
       "      <td>143</td>\n",
       "      <td>hơi</td>\n",
       "      <td>None</td>\n",
       "      <td>0.057232</td>\n",
       "      <td>0.023062</td>\n",
       "      <td>0.028181</td>\n",
       "      <td>0.914362</td>\n",
       "      <td>None</td>\n",
       "    </tr>\n",
       "    <tr>\n",
       "      <th>3</th>\n",
       "      <td>143</td>\n",
       "      <td>nước</td>\n",
       "      <td>None</td>\n",
       "      <td>0.057229</td>\n",
       "      <td>0.023034</td>\n",
       "      <td>0.031652</td>\n",
       "      <td>0.914363</td>\n",
       "      <td>None</td>\n",
       "    </tr>\n",
       "    <tr>\n",
       "      <th>4</th>\n",
       "      <td>143</td>\n",
       "      <td>công</td>\n",
       "      <td>None</td>\n",
       "      <td>0.057281</td>\n",
       "      <td>0.023060</td>\n",
       "      <td>0.031620</td>\n",
       "      <td>0.914431</td>\n",
       "      <td>None</td>\n",
       "    </tr>\n",
       "    <tr>\n",
       "      <th>...</th>\n",
       "      <td>...</td>\n",
       "      <td>...</td>\n",
       "      <td>...</td>\n",
       "      <td>...</td>\n",
       "      <td>...</td>\n",
       "      <td>...</td>\n",
       "      <td>...</td>\n",
       "      <td>...</td>\n",
       "    </tr>\n",
       "    <tr>\n",
       "      <th>3176</th>\n",
       "      <td>238</td>\n",
       "      <td>hàng</td>\n",
       "      <td>None</td>\n",
       "      <td>0.057282</td>\n",
       "      <td>0.023107</td>\n",
       "      <td>0.031529</td>\n",
       "      <td>0.914384</td>\n",
       "      <td>None</td>\n",
       "    </tr>\n",
       "    <tr>\n",
       "      <th>3177</th>\n",
       "      <td>238</td>\n",
       "      <td>nội</td>\n",
       "      <td>None</td>\n",
       "      <td>0.057193</td>\n",
       "      <td>0.023082</td>\n",
       "      <td>0.031559</td>\n",
       "      <td>0.914437</td>\n",
       "      <td>None</td>\n",
       "    </tr>\n",
       "    <tr>\n",
       "      <th>3178</th>\n",
       "      <td>238</td>\n",
       "      <td>địa</td>\n",
       "      <td>None</td>\n",
       "      <td>0.057233</td>\n",
       "      <td>0.023041</td>\n",
       "      <td>0.031653</td>\n",
       "      <td>0.914362</td>\n",
       "      <td>None</td>\n",
       "    </tr>\n",
       "    <tr>\n",
       "      <th>3179</th>\n",
       "      <td>238</td>\n",
       "      <td>trung</td>\n",
       "      <td>None</td>\n",
       "      <td>0.057258</td>\n",
       "      <td>0.023123</td>\n",
       "      <td>0.031598</td>\n",
       "      <td>0.914485</td>\n",
       "      <td>None</td>\n",
       "    </tr>\n",
       "    <tr>\n",
       "      <th>3180</th>\n",
       "      <td>238</td>\n",
       "      <td>quốc</td>\n",
       "      <td>None</td>\n",
       "      <td>0.057056</td>\n",
       "      <td>0.027647</td>\n",
       "      <td>0.035257</td>\n",
       "      <td>0.905844</td>\n",
       "      <td>None</td>\n",
       "    </tr>\n",
       "  </tbody>\n",
       "</table>\n",
       "<p>3181 rows × 8 columns</p>\n",
       "</div>"
      ],
      "text/plain": [
       "      TupleID   word   Tag      type     brand      name      None TagPred\n",
       "0         143    bàn  type  0.935700  0.023179  0.031588  0.067010    type\n",
       "1         143     ủi  type  0.935592  0.022659  0.031660  0.067060    type\n",
       "2         143    hơi  None  0.057232  0.023062  0.028181  0.914362    None\n",
       "3         143   nước  None  0.057229  0.023034  0.031652  0.914363    None\n",
       "4         143   công  None  0.057281  0.023060  0.031620  0.914431    None\n",
       "...       ...    ...   ...       ...       ...       ...       ...     ...\n",
       "3176      238   hàng  None  0.057282  0.023107  0.031529  0.914384    None\n",
       "3177      238    nội  None  0.057193  0.023082  0.031559  0.914437    None\n",
       "3178      238    địa  None  0.057233  0.023041  0.031653  0.914362    None\n",
       "3179      238  trung  None  0.057258  0.023123  0.031598  0.914485    None\n",
       "3180      238   quốc  None  0.057056  0.027647  0.035257  0.905844    None\n",
       "\n",
       "[3181 rows x 8 columns]"
      ]
     },
     "metadata": {},
     "execution_count": 23
    }
   ],
   "metadata": {}
  }
 ],
 "metadata": {
  "orig_nbformat": 4,
  "language_info": {
   "name": "python",
   "version": "3.9.1",
   "mimetype": "text/x-python",
   "codemirror_mode": {
    "name": "ipython",
    "version": 3
   },
   "pygments_lexer": "ipython3",
   "nbconvert_exporter": "python",
   "file_extension": ".py"
  },
  "kernelspec": {
   "name": "python3",
   "display_name": "Python 3.9.1 64-bit ('base': conda)"
  },
  "interpreter": {
   "hash": "10429ee993181f60e6e2fb8d8898bdd335e1dca66225fda34ad9c93ac779e1d1"
  }
 },
 "nbformat": 4,
 "nbformat_minor": 2
}